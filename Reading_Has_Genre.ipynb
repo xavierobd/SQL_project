{
 "cells": [
  {
   "cell_type": "code",
   "execution_count": 41,
   "metadata": {},
   "outputs": [],
   "source": [
    "infile='/Users/xavier.davis/Documents/Database_Systems/movies/movies.txt'\n",
    "f = open(infile)"
   ]
  },
  {
   "cell_type": "code",
   "execution_count": 42,
   "metadata": {},
   "outputs": [],
   "source": [
    "lines = f.readlines()\n",
    "genres = []"
   ]
  },
  {
   "cell_type": "code",
   "execution_count": 43,
   "metadata": {},
   "outputs": [],
   "source": [
    "for line in lines:\n",
    "    line = line.replace('\"', '')\n",
    "    id = line.split(':')[0]\n",
    "    start = line.rfind(':')\n",
    "    end = len(line)\n",
    "    replace = line.replace(\"|\", ',')\n",
    "    genre = replace[start + 1:end]\n",
    "    x = genre.count(',')\n",
    "    for i in range(x + 1):\n",
    "        genres.append(id + '~' + genre.split(',')[i] + '\\n')"
   ]
  },
  {
   "cell_type": "code",
   "execution_count": 44,
   "metadata": {},
   "outputs": [],
   "source": [
    "outfile = 'Has_Genre.csv'\n",
    "f = open(outfile, 'w')\n",
    "for genre in genres:\n",
    "    f.write(genre)\n",
    "    \n",
    "f.close()"
   ]
  }
 ],
 "metadata": {
  "kernelspec": {
   "display_name": "Python 3",
   "language": "python",
   "name": "python3"
  },
  "language_info": {
   "codemirror_mode": {
    "name": "ipython",
    "version": 3
   },
   "file_extension": ".py",
   "mimetype": "text/x-python",
   "name": "python",
   "nbconvert_exporter": "python",
   "pygments_lexer": "ipython3",
   "version": "3.7.6"
  }
 },
 "nbformat": 4,
 "nbformat_minor": 4
}
