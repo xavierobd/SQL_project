{
 "cells": [
  {
   "cell_type": "code",
   "execution_count": 36,
   "metadata": {},
   "outputs": [],
   "source": [
    "infile='/Users/xavier.davis/Documents/Database_Systems/movies/tags.txt'\n",
    "f = open(infile)"
   ]
  },
  {
   "cell_type": "code",
   "execution_count": 37,
   "metadata": {},
   "outputs": [],
   "source": [
    "lines = f.readlines()\n",
    "tags = []"
   ]
  },
  {
   "cell_type": "code",
   "execution_count": 38,
   "metadata": {},
   "outputs": [
    {
     "data": {
      "text/plain": [
       "['15:4973:excellent!:1215184630\\n',\n",
       " '20:1747:politics:1188263867\\n',\n",
       " '20:1747:satire:1188263867\\n',\n",
       " '20:2424:chick flick 212:1188263835\\n',\n",
       " '20:2424:hanks:1188263835\\n']"
      ]
     },
     "execution_count": 38,
     "metadata": {},
     "output_type": "execute_result"
    }
   ],
   "source": [
    "lines[:5]"
   ]
  },
  {
   "cell_type": "code",
   "execution_count": 39,
   "metadata": {},
   "outputs": [],
   "source": [
    "for line in lines:\n",
    "    user = line.split(':')[0]\n",
    "    movie = line.split(':')[1]\n",
    "    time = line.split(':')[-1]\n",
    "    n = len(line.split(':'))\n",
    "    tag = line.split(':')[2:n-1]\n",
    "    tag = ''.join(tag)\n",
    "    #need to remove ':' symbols\n",
    "    #from tags so the demiliter is not confused\n",
    "    tag = tag.replace(':','')\n",
    "    tags.append(user+'|'+movie+'|'+tag+'|'+time)"
   ]
  },
  {
   "cell_type": "code",
   "execution_count": 40,
   "metadata": {},
   "outputs": [
    {
     "data": {
      "text/plain": [
       "95580"
      ]
     },
     "execution_count": 40,
     "metadata": {},
     "output_type": "execute_result"
    }
   ],
   "source": [
    "len(tags)"
   ]
  },
  {
   "cell_type": "code",
   "execution_count": 41,
   "metadata": {},
   "outputs": [],
   "source": [
    "outfile = 'tags.csv'\n",
    "f = open(outfile, 'w')\n",
    "for tag in tags:\n",
    "    f.write(tag)\n",
    "    \n",
    "f.close()"
   ]
  },
  {
   "cell_type": "code",
   "execution_count": null,
   "metadata": {},
   "outputs": [],
   "source": []
  }
 ],
 "metadata": {
  "kernelspec": {
   "display_name": "Python 3",
   "language": "python",
   "name": "python3"
  },
  "language_info": {
   "codemirror_mode": {
    "name": "ipython",
    "version": 3
   },
   "file_extension": ".py",
   "mimetype": "text/x-python",
   "name": "python",
   "nbconvert_exporter": "python",
   "pygments_lexer": "ipython3",
   "version": "3.7.6"
  }
 },
 "nbformat": 4,
 "nbformat_minor": 4
}
