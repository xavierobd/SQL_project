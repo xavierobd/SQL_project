{
 "cells": [
  {
   "cell_type": "code",
   "execution_count": 222,
   "metadata": {},
   "outputs": [],
   "source": [
    "infile='/Users/xavier.davis/Documents/Database_Systems/movies/movies.txt'\n",
    "f = open(infile)"
   ]
  },
  {
   "cell_type": "code",
   "execution_count": 223,
   "metadata": {},
   "outputs": [],
   "source": [
    "lines = f.readlines()\n",
    "movies = []"
   ]
  },
  {
   "cell_type": "code",
   "execution_count": 224,
   "metadata": {},
   "outputs": [],
   "source": [
    "for line in lines:\n",
    "    line = line.replace('\"', '')\n",
    "    id = line.split(':')[0]\n",
    "    begin = line.find(':')\n",
    "    end = line.rfind(':')\n",
    "    movie = line[begin + 1:end - 7]\n",
    "    \n",
    "    year = line[end - 5:end - 1]\n",
    "    \n",
    "    movies.append(id+'~'+movie+'~'+year +'\\n')\n"
   ]
  },
  {
   "cell_type": "code",
   "execution_count": 225,
   "metadata": {},
   "outputs": [
    {
     "data": {
      "text/plain": [
       "'8606~Pull My Daisy~1958\\n'"
      ]
     },
     "execution_count": 225,
     "metadata": {},
     "output_type": "execute_result"
    }
   ],
   "source": [
    "movies[7903]"
   ]
  },
  {
   "cell_type": "code",
   "execution_count": 226,
   "metadata": {},
   "outputs": [],
   "source": [
    "outfile = 'movies.csv'\n",
    "f = open(outfile, 'w')\n",
    "for movie in movies:\n",
    "    f.write(movie)\n",
    "    \n",
    "f.close()"
   ]
  }
 ],
 "metadata": {
  "kernelspec": {
   "display_name": "Python 3",
   "language": "python",
   "name": "python3"
  },
  "language_info": {
   "codemirror_mode": {
    "name": "ipython",
    "version": 3
   },
   "file_extension": ".py",
   "mimetype": "text/x-python",
   "name": "python",
   "nbconvert_exporter": "python",
   "pygments_lexer": "ipython3",
   "version": "3.7.6"
  }
 },
 "nbformat": 4,
 "nbformat_minor": 4
}
